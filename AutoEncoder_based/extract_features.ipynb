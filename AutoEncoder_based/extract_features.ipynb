{
 "cells": [
  {
   "cell_type": "code",
   "execution_count": 1,
   "id": "3c381b15",
   "metadata": {},
   "outputs": [],
   "source": [
    "# !pip install nbimporter\n"
   ]
  },
  {
   "cell_type": "code",
   "execution_count": 2,
   "id": "f6d761f2",
   "metadata": {},
   "outputs": [],
   "source": [
    "# import os\n",
    "# import numpy as np\n",
    "# import torch\n",
    "# from model_init import load_model, preprocess_image\n",
    "\n",
    "# # Paths\n",
    "# reference_folder = \"../60_images_of_6_cows/db-images\"  # folder with known cattle images\n",
    "# features_output_file = \"reference_features_autoencoder.npy\"\n",
    "# filenames_output_file = \"reference_filenames_autoencoder.npy\"\n",
    "# model_path = \"./models/autoencoder_model-muzzle60-100.pth\"  # Path to your trained autoencoder\n",
    "\n",
    "# # Device\n",
    "# device = torch.device(\"cuda\" if torch.cuda.is_available() else \"cpu\")\n",
    "\n",
    "# # Load model\n",
    "# model = load_model(model_path, device)\n",
    "\n",
    "# # Function to get enhanced features from the model\n",
    "# def get_enhanced_features(model, image_tensor, device):\n",
    "#     image_tensor = image_tensor.to(device)\n",
    "#     with torch.no_grad():\n",
    "#         features = model(image_tensor)\n",
    "#         # Double normalization for better discrimination\n",
    "#         features = features / features.norm(dim=1, keepdim=True)\n",
    "#         features = 0.5 * (features + 1)  # Scale to [0,1] range\n",
    "#     return features.cpu().numpy()\n",
    "\n",
    "# # Extract and store features\n",
    "# features = []\n",
    "# filenames = []\n",
    "\n",
    "# # Iterate over reference images\n",
    "# for filename in os.listdir(reference_folder):\n",
    "#     if filename.lower().endswith((\".jpg\", \".png\", \".jpeg\")):\n",
    "#         try:\n",
    "#             image_path = os.path.join(reference_folder, filename)\n",
    "#             image_tensor = preprocess_image(image_path)\n",
    "#             feature = get_enhanced_features(model, image_tensor, device)\n",
    "#             # print(feature)\n",
    "#             features.append(feature.squeeze())  # shape: (latent_dim,)\n",
    "#             filenames.append(filename)\n",
    "#         except Exception as e:\n",
    "#             print(f\"Error processing {filename}: {str(e)}\")\n",
    "\n",
    "# # Save extracted features and filenames\n",
    "# if features:\n",
    "#     features = np.stack(features)  # shape: (N, latent_dim)\n",
    "#     np.save(features_output_file, features)\n",
    "#     np.save(filenames_output_file, np.array(filenames))\n",
    "#     print(f\"Saved {len(features)} features and filenames successfully.\")\n",
    "# else:\n",
    "#     print(\"No features were extracted. Check your input folder and images.\")\n"
   ]
  },
  {
   "cell_type": "code",
   "execution_count": 3,
   "id": "10c08374",
   "metadata": {},
   "outputs": [
    {
     "name": "stderr",
     "output_type": "stream",
     "text": [
      "/Users/niteshkumar/conda/envs/tf_env/lib/python3.9/site-packages/torch/utils/_pytree.py:185: FutureWarning: optree is installed but the version is too old to support PyTorch Dynamo in C++ pytree. C++ pytree support is disabled. Please consider upgrading optree using `python3 -m pip install --upgrade 'optree>=0.13.0'`.\n",
      "  warnings.warn(\n"
     ]
    },
    {
     "name": "stdout",
     "output_type": "stream",
     "text": [
      "Saved 6 features and filenames successfully.\n"
     ]
    }
   ],
   "source": [
    "import os\n",
    "import numpy as np\n",
    "import torch\n",
    "from model_init import load_model, preprocess_image\n",
    "\n",
    "# Paths\n",
    "reference_folder = \"../60_images_of_6_cows/db-images\"  # folder with known cattle images\n",
    "features_output_file = \"reference_features_autoencoder.npy\"\n",
    "filenames_output_file = \"reference_filenames_autoencoder.npy\"\n",
    "model_path = \"./models/autoencoder_model30-100.pth\"  # Path to your trained autoencoder\n",
    "\n",
    "# Device\n",
    "device = torch.device(\"cuda\" if torch.cuda.is_available() else \"cpu\")\n",
    "\n",
    "# Load model\n",
    "model = load_model(model_path, device)\n",
    "\n",
    "# Function to get enhanced features from the model\n",
    "def get_enhanced_features(model, image_tensor, device):\n",
    "    image_tensor = image_tensor.to(device)\n",
    "    with torch.no_grad():\n",
    "        features = model(image_tensor)\n",
    "        # Double normalization for better discrimination\n",
    "        features = features / features.norm(dim=1, keepdim=True)\n",
    "        features = 0.5 * (features + 1)  # Scale to [0,1] range\n",
    "    return features.cpu().numpy()\n",
    "\n",
    "# Extract and store features\n",
    "features = []\n",
    "filenames = []\n",
    "\n",
    "# Iterate over reference images\n",
    "for filename in os.listdir(reference_folder):\n",
    "    if filename.lower().endswith((\".jpg\", \".png\", \".jpeg\")):\n",
    "        try:\n",
    "            image_path = os.path.join(reference_folder, filename)\n",
    "            image_tensor = preprocess_image(image_path)\n",
    "            feature = get_enhanced_features(model, image_tensor, device)\n",
    "            # print(feature)\n",
    "            features.append(feature.squeeze())  # shape: (latent_dim,)\n",
    "            filenames.append(filename)\n",
    "        except Exception as e:\n",
    "            print(f\"Error processing {filename}: {str(e)}\")\n",
    "\n",
    "# Save extracted features and filenames\n",
    "if features:\n",
    "    features = np.stack(features)  # shape: (N, latent_dim)\n",
    "    np.save(features_output_file, features)\n",
    "    np.save(filenames_output_file, np.array(filenames))\n",
    "    print(f\"Saved {len(features)} features and filenames successfully.\")\n",
    "else:\n",
    "    print(\"No features were extracted. Check your input folder and images.\")\n"
   ]
  }
 ],
 "metadata": {
  "kernelspec": {
   "display_name": "tf_env",
   "language": "python",
   "name": "python3"
  },
  "language_info": {
   "codemirror_mode": {
    "name": "ipython",
    "version": 3
   },
   "file_extension": ".py",
   "mimetype": "text/x-python",
   "name": "python",
   "nbconvert_exporter": "python",
   "pygments_lexer": "ipython3",
   "version": "3.9.19"
  }
 },
 "nbformat": 4,
 "nbformat_minor": 5
}
