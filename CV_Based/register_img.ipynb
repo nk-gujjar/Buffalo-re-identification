{
 "cells": [
  {
   "cell_type": "code",
   "execution_count": 1,
   "metadata": {},
   "outputs": [
    {
     "name": "stdout",
     "output_type": "stream",
     "text": [
      "Preprocessed data saved to register_data.pkl\n"
     ]
    }
   ],
   "source": [
    "import os\n",
    "import cv2\n",
    "import pickle  # To store preprocessed data\n",
    "\n",
    "def preprocess_and_save(folder_path, output_file):\n",
    "    \"\"\"Preprocess images in a folder and save descriptors to a file.\"\"\"\n",
    "    orb = cv2.ORB_create()\n",
    "    data = {}\n",
    "\n",
    "    for file_name in os.listdir(folder_path):\n",
    "        file_path = os.path.join(folder_path, file_name)\n",
    "        if os.path.isfile(file_path):\n",
    "            img = cv2.imread(file_path, cv2.IMREAD_GRAYSCALE)\n",
    "            if img is not None:\n",
    "                keypoints, descriptors = orb.detectAndCompute(img, None)\n",
    "                data[file_name] = descriptors  # Store descriptors against the filename\n",
    "\n",
    "    # Save preprocessed data to a file\n",
    "    with open(output_file, 'wb') as file:\n",
    "        pickle.dump(data, file)\n",
    "    print(f\"Preprocessed data saved to {output_file}\")\n",
    "\n",
    "# Path to register database folder and output file\n",
    "register_folder = \"./60_images_of_6_cows/db-images1\"\n",
    "output_file = \"register_data.pkl\"\n",
    "\n",
    "# Preprocess and save\n",
    "preprocess_and_save(register_folder, output_file)\n"
   ]
  },
  {
   "cell_type": "code",
   "execution_count": null,
   "metadata": {},
   "outputs": [],
   "source": []
  }
 ],
 "metadata": {
  "kernelspec": {
   "display_name": "tf_env",
   "language": "python",
   "name": "python3"
  },
  "language_info": {
   "codemirror_mode": {
    "name": "ipython",
    "version": 3
   },
   "file_extension": ".py",
   "mimetype": "text/x-python",
   "name": "python",
   "nbconvert_exporter": "python",
   "pygments_lexer": "ipython3",
   "version": "3.9.19"
  }
 },
 "nbformat": 4,
 "nbformat_minor": 2
}
