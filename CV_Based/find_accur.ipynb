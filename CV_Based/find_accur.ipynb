{
 "cells": [
  {
   "cell_type": "code",
   "execution_count": 1,
   "metadata": {},
   "outputs": [],
   "source": [
    "import os\n",
    "import cv2\n",
    "import pickle  # To store preprocessed data"
   ]
  },
  {
   "cell_type": "code",
   "execution_count": 2,
   "metadata": {},
   "outputs": [],
   "source": [
    "def load_preprocessed_data(file_path):\n",
    "    \"\"\"Load preprocessed data from a file.\"\"\"\n",
    "    with open(file_path, 'rb') as file:\n",
    "        return pickle.load(file)\n",
    "\n",
    "def find_most_similar_flann(test_image_path, register_data):\n",
    "    \"\"\"Find the most similar image using FLANN-based matching.\"\"\"\n",
    "    orb = cv2.ORB_create()\n",
    "    index_params = dict(algorithm=1, trees=5)  # FLANN parameters for ORB\n",
    "    search_params = dict(checks=50)\n",
    "    flann = cv2.FlannBasedMatcher(index_params, search_params)\n",
    "\n",
    "    test_img = cv2.imread(test_image_path, cv2.IMREAD_GRAYSCALE)\n",
    "    if test_img is None:\n",
    "        return None, 0\n",
    "\n",
    "    keypoints, descriptors = orb.detectAndCompute(test_img, None)\n",
    "    if descriptors is None:\n",
    "        return None, 0\n",
    "\n",
    "    # Convert test descriptors to float32\n",
    "    descriptors = descriptors.astype('float32')\n",
    "\n",
    "    best_match = None\n",
    "    best_good_matches = 0\n",
    "\n",
    "    for img_name, ref_descriptors in register_data.items():\n",
    "        if ref_descriptors is not None:\n",
    "            # Convert reference descriptors to float32\n",
    "            ref_descriptors = ref_descriptors.astype('float32')\n",
    "\n",
    "            # FLANN matching\n",
    "            matches = flann.knnMatch(descriptors, ref_descriptors, k=2)\n",
    "            # Lowe's ratio test\n",
    "            good_matches = [m for m, n in matches if m.distance < 0.7 * n.distance]\n",
    "            if len(good_matches) > best_good_matches:\n",
    "                best_good_matches = len(good_matches)\n",
    "                best_match = img_name\n",
    "\n",
    "    return best_match, best_good_matches\n",
    "\n"
   ]
  },
  {
   "cell_type": "code",
   "execution_count": 3,
   "metadata": {},
   "outputs": [],
   "source": [
    "\n",
    "def calculate_accuracy_flann(test_folder, preprocessed_file):\n",
    "    \"\"\"Calculate accuracy by comparing test images with preprocessed register data.\"\"\"\n",
    "    # Load preprocessed data\n",
    "    register_data = load_preprocessed_data(preprocessed_file)\n",
    "\n",
    "    # Valid image extensions\n",
    "    valid_extensions = (\".jpg\", \".jpeg\", \".png\", \".bmp\", \".tiff\")\n",
    "\n",
    "    correct_matches = 0\n",
    "    total_images = 0\n",
    "\n",
    "    for test_image in os.listdir(test_folder):\n",
    "        test_image_path = os.path.join(test_folder, test_image)\n",
    "        \n",
    "        # Check if it's a valid image file\n",
    "        if os.path.isfile(test_image_path) and test_image.lower().endswith(valid_extensions):\n",
    "            total_images += 1\n",
    "            # print(\"Processing image: \", test_image_path)\n",
    "\n",
    "            # Find the most similar image\n",
    "            similar_image, _ = find_most_similar_flann(test_image_path, register_data)\n",
    "\n",
    "            if similar_image:\n",
    "                # Compare the starting identifiers\n",
    "                test_prefix = test_image.split(\"_\")[0]\n",
    "                similar_prefix = similar_image.split(\"_\")[0]\n",
    "\n",
    "                if test_prefix == similar_prefix:\n",
    "                    correct_matches += 1\n",
    "    \n",
    "    print(\"Correct matches: \", correct_matches)\n",
    "    print(\"Total images: \", total_images)\n",
    "    # Calculate accuracy\n",
    "    accuracy = (correct_matches / total_images) * 100 if total_images > 0 else 0\n",
    "    return accuracy\n"
   ]
  },
  {
   "cell_type": "code",
   "execution_count": 4,
   "metadata": {},
   "outputs": [
    {
     "name": "stdout",
     "output_type": "stream",
     "text": [
      "Correct matches:  40\n",
      "Total images:  54\n",
      "Accuracy: 74.07%\n"
     ]
    }
   ],
   "source": [
    "# Main workflow\n",
    "if __name__ == \"__main__\":\n",
    "    # Paths\n",
    "    test_folder = \"./60_images_of_6_cows/test-images1\"  # Folder containing test images\n",
    "    preprocessed_file = \"register_data.pkl\"  # Preprocessed register database\n",
    "\n",
    "    # Calculate accuracy\n",
    "    accuracy = calculate_accuracy_flann(test_folder, preprocessed_file)\n",
    "    print(f\"Accuracy: {accuracy:.2f}%\")"
   ]
  },
  {
   "cell_type": "code",
   "execution_count": null,
   "metadata": {},
   "outputs": [],
   "source": []
  }
 ],
 "metadata": {
  "kernelspec": {
   "display_name": "tf_env",
   "language": "python",
   "name": "python3"
  },
  "language_info": {
   "codemirror_mode": {
    "name": "ipython",
    "version": 3
   },
   "file_extension": ".py",
   "mimetype": "text/x-python",
   "name": "python",
   "nbconvert_exporter": "python",
   "pygments_lexer": "ipython3",
   "version": "3.9.19"
  }
 },
 "nbformat": 4,
 "nbformat_minor": 2
}
