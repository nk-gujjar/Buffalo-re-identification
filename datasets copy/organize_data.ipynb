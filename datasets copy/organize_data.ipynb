{
 "cells": [
  {
   "cell_type": "code",
   "execution_count": 1,
   "metadata": {},
   "outputs": [
    {
     "name": "stdout",
     "output_type": "stream",
     "text": [
      "Requirement already satisfied: numpy in /Users/niteshkumar/conda/envs/tf_env/lib/python3.9/site-packages (1.26.4)\n",
      "Requirement already satisfied: opencv-python in /Users/niteshkumar/conda/envs/tf_env/lib/python3.9/site-packages (4.10.0.84)\n",
      "Requirement already satisfied: pickle-mixin in /Users/niteshkumar/conda/envs/tf_env/lib/python3.9/site-packages (1.0.2)\n"
     ]
    }
   ],
   "source": [
    "!pip install numpy opencv-python pickle-mixin"
   ]
  },
  {
   "cell_type": "code",
   "execution_count": 2,
   "metadata": {},
   "outputs": [
    {
     "name": "stdout",
     "output_type": "stream",
     "text": [
      "Dataset successfully saved to dataset.bin\n"
     ]
    }
   ],
   "source": [
    "import os\n",
    "import cv2\n",
    "import numpy as np\n",
    "import pickle\n",
    "\n",
    "# Define the path to your dataset folder\n",
    "dataset_path = \"./dataset\"\n",
    "\n",
    "# Image dimensions expected by the model (adjust accordingly)\n",
    "image_size = (112, 112)\n",
    "\n",
    "# Initialize lists to store data and labels\n",
    "data = []\n",
    "labels = []\n",
    "\n",
    "# Loop through each folder in the dataset (folder names 0 to 9)\n",
    "for folder_name in range(10):\n",
    "    folder_path = os.path.join(dataset_path, str(folder_name))\n",
    "    \n",
    "    # Loop through each image in the folder\n",
    "    for image_num in range(1, 11):  # Assuming 10 images per folder\n",
    "        image_name = f\"{folder_name}_{image_num}.jpg\"\n",
    "        image_path = os.path.join(folder_path, image_name)\n",
    "        \n",
    "        # Load the image\n",
    "        image = cv2.imread(image_path)\n",
    "        \n",
    "        # Resize the image to the required size\n",
    "        image_resized = cv2.resize(image, image_size)\n",
    "        \n",
    "        # Convert the image to a numpy array\n",
    "        image_array = np.array(image_resized, dtype=np.float32)\n",
    "        \n",
    "        # Normalize the image (if required)\n",
    "        image_array = image_array / 255.0\n",
    "        \n",
    "        # Append the image and corresponding label\n",
    "        data.append(image_array)\n",
    "        labels.append(folder_name)  # Label is the folder name (0 to 9)\n",
    "\n",
    "# Convert data and labels to numpy arrays\n",
    "data = np.array(data)\n",
    "labels = np.array(labels)\n",
    "\n",
    "# Save the data and labels into a .bin file using pickle\n",
    "output_file = \"dataset.bin\"\n",
    "with open(output_file, \"wb\") as f:\n",
    "    pickle.dump((data, labels), f)\n",
    "\n",
    "print(f\"Dataset successfully saved to {output_file}\")\n"
   ]
  },
  {
   "cell_type": "code",
   "execution_count": null,
   "metadata": {},
   "outputs": [],
   "source": []
  }
 ],
 "metadata": {
  "kernelspec": {
   "display_name": "Python 3",
   "language": "python",
   "name": "python3"
  },
  "language_info": {
   "codemirror_mode": {
    "name": "ipython",
    "version": 3
   },
   "file_extension": ".py",
   "mimetype": "text/x-python",
   "name": "python",
   "nbconvert_exporter": "python",
   "pygments_lexer": "ipython3",
   "version": "3.9.19"
  }
 },
 "nbformat": 4,
 "nbformat_minor": 2
}
