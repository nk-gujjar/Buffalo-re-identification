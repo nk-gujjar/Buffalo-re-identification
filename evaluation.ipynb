{
 "cells": [
  {
   "cell_type": "code",
   "execution_count": 1,
   "metadata": {},
   "outputs": [],
   "source": [
    "# !pip install keras_cv_attention_models"
   ]
  },
  {
   "cell_type": "code",
   "execution_count": 2,
   "metadata": {},
   "outputs": [
    {
     "name": "stdout",
     "output_type": "stream",
     "text": [
      "[WARNING] Setting TF_USE_LEGACY_KERAS=1. Make sure this is ahead of importing tensorflow or keras.\n"
     ]
    }
   ],
   "source": [
    "import evals\n",
    "from tensorflow import keras\n",
    "import tensorflow as tf\n",
    "import IJB_evals\n",
    "import matplotlib.pyplot as plt\n",
    "import keras_cv_attention_models\n",
    "import GhostFaceNets, GhostFaceNets_with_Bias"
   ]
  },
  {
   "cell_type": "code",
   "execution_count": 3,
   "metadata": {},
   "outputs": [
    {
     "name": "stdout",
     "output_type": "stream",
     "text": [
      "[]\n"
     ]
    }
   ],
   "source": [
    "gpus = tf.config.experimental.list_physical_devices(\"GPU\")\n",
    "for gpu in gpus:\n",
    "    tf.config.experimental.set_memory_growth(gpu, True)\n",
    "print(tf.config.list_physical_devices('GPU'))"
   ]
  },
  {
   "attachments": {},
   "cell_type": "markdown",
   "metadata": {},
   "source": [
    "2 ways to load the model"
   ]
  },
  {
   "attachments": {},
   "cell_type": "markdown",
   "metadata": {},
   "source": [
    "Stride 2"
   ]
  },
  {
   "cell_type": "code",
   "execution_count": 4,
   "metadata": {},
   "outputs": [],
   "source": [
    "# #Either\n",
    "# basic_model = keras.models.load_model('checkpoints/ghostnetv1_w1.3_s2.weights.weights.h5', compile=False)"
   ]
  },
  {
   "cell_type": "code",
   "execution_count": 5,
   "metadata": {},
   "outputs": [],
   "source": [
    "# #If the above did not work, then you need to build the model then load the weights. e.g.,\n",
    "# basic_model = GhostFaceNets_with_Bias.buildin_models(\"ghostnetv1\", dropout=0, emb_shape=512, output_layer='GDC', bn_momentum=0.9, bn_epsilon=1e-5)\n",
    "# basic_model = GhostFaceNets_with_Bias.add_l2_regularizer_2_model(basic_model, weight_decay=5e-4, apply_to_batch_normal=False)\n",
    "# basic_model = GhostFaceNets_with_Bias.replace_ReLU_with_PReLU(basic_model, target_activation='PReLU')\n",
    "\n",
    "# basic_model.load_weights('checkpoints/ghostnetv1_w1.3_s2.h5')"
   ]
  },
  {
   "attachments": {},
   "cell_type": "markdown",
   "metadata": {},
   "source": [
    "Stride 1"
   ]
  },
  {
   "cell_type": "code",
   "execution_count": 6,
   "metadata": {},
   "outputs": [],
   "source": [
    "#Either\n",
    "# basic_model = keras.models.load_model('checkpoints/ghostnetv1_w1.3_s1.weights.weights.h5', compile=False)\n",
    "# checkpoints/ghostnetv1_w1.3_s1.weights.weights.h5"
   ]
  },
  {
   "cell_type": "code",
   "execution_count": 7,
   "metadata": {},
   "outputs": [
    {
     "name": "stdout",
     "output_type": "stream",
     "text": [
      "GhostNetV1 model instantiated successfully!\n",
      "Weights loaded successfully from: ./checkpoints/ghostnetv1_w1.3_s1.weights.weights.h5\n",
      "Model compiled successfully!\n"
     ]
    }
   ],
   "source": [
    "import os\n",
    "import sys\n",
    "import numpy as np\n",
    "import tensorflow as tf\n",
    "\n",
    "weights_file = \"./checkpoints/ghostnetv1_w1.3_s1.weights.weights.h5\"  # Adjust the path if necessary\n",
    "# weights_file = \"./checkpoints/ghostnetv1_w1.3_s1.weights_basic_model_latest.h5\"  # Adjust the path if necessary\n",
    "# Add the path to the 'backbones' folder to the system path\n",
    "sys.path.append(os.path.abspath('./backbones'))\n",
    "\n",
    "# Import the GhostNet architecture\n",
    "from ghost_model import GhostNet\n",
    "\n",
    "# Define paths\n",
    "\n",
    "\n",
    "# Model parameters\n",
    "input_shape = (224, 224, 3)  # Adjust this based on your input size\n",
    "num_classes = 10           # Adjust this based on your dataset, set to 0 if not including top layer\n",
    "\n",
    "# Initialize model as None\n",
    "model = None\n",
    "\n",
    "# Instantiate the GhostNet model\n",
    "try:\n",
    "    # Create the model directly with input_shape\n",
    "    model = GhostNet(\n",
    "        input_shape=input_shape,  # Input shape is used directly\n",
    "        include_top=False,         # Set to False if you're using it as a feature extractor\n",
    "        classes=num_classes,      # Number of output classes\n",
    "        width=1.0,\n",
    "        strides=1,                                 # Width multiplier as specified in the model\n",
    "        name=\"GhostNet\"         # Optional name for the model\n",
    "    )\n",
    "    print(\"GhostNetV1 model instantiated successfully!\")\n",
    "except Exception as e:\n",
    "    print(f\"Error instantiating GhostNetV1 model: {e}\")\n",
    "\n",
    "# Check if the model was successfully created\n",
    "if model is not None:\n",
    "    # Load pre-trained weights\n",
    "    try:\n",
    "        model.load_weights(weights_file)\n",
    "        print(\"Weights loaded successfully from:\", weights_file)\n",
    "    except Exception as e:\n",
    "        print(f\"Error loading weights: {e}\")\n",
    "\n",
    "    # Compile the model (if necessary)\n",
    "    try:\n",
    "        model.compile(optimizer='adam', loss='categorical_crossentropy', metrics=['accuracy'])\n",
    "        print(\"Model compiled successfully!\")\n",
    "    except Exception as e:\n",
    "        print(f\"Error compiling the model: {e}\")\n",
    "\n",
    "    # Check the model summary\n",
    "    # print(\"Model Summary:\")\n",
    "    # model.summary()"
   ]
  },
  {
   "cell_type": "code",
   "execution_count": 8,
   "metadata": {},
   "outputs": [],
   "source": [
    "# #If the above did not work, then you need to build the model then load the weights. e.g.,\n",
    "# basic_model = GhostFaceNets_with_Bias.buildin_models(\"ghostnetv1\", dropout=0, emb_shape=512, output_layer='GDC', bn_momentum=0.9, bn_epsilon=1e-5, scale=True, use_bias=True, strides=1)\n",
    "# basic_model = GhostFaceNets_with_Bias.add_l2_regularizer_2_model(basic_model, weight_decay=5e-4, apply_to_batch_normal=False)\n",
    "# basic_model = GhostFaceNets_with_Bias.replace_ReLU_with_PReLU(basic_model, target_activation='PReLU')\n",
    "\n",
    "# basic_model.load_weights('checkpoints/ghostnetv1_w1.3_s1.weights_basic_model_latest.h5')"
   ]
  },
  {
   "cell_type": "code",
   "execution_count": 9,
   "metadata": {},
   "outputs": [
    {
     "name": "stdout",
     "output_type": "stream",
     "text": [
      "Shape of the loaded data: (10506,)\n",
      "Total number of elements in the .bin file: 10506\n"
     ]
    }
   ],
   "source": [
    "# # import numpy as np\n",
    "# # from tensorflow.keras.models import load_model\n",
    "\n",
    "\n",
    "# # # Load the .bin file as embeddings\n",
    "# # embeddings = np.fromfile('datasets/faces_emore/lfw.bin', dtype=np.float32)\n",
    "\n",
    "# # # Print the total number of elements\n",
    "# # print(f\"Total number of elements: {embeddings.size}\")\n",
    "\n",
    "# # # Adjust the number of elements to be divisible by 128 (embedding dimension)\n",
    "# # embedding_size = 128\n",
    "# # num_elements = (embeddings.size // embedding_size) * embedding_size  # Round down to nearest multiple of 128\n",
    "\n",
    "# # # Slice the array to ensure it's divisible by 128\n",
    "# # embeddings = embeddings[:num_elements]\n",
    "\n",
    "# # # Reshape the embeddings\n",
    "# # N = embeddings.size // embedding_size  # Number of samples\n",
    "# # embeddings = embeddings.reshape((N, embedding_size))\n",
    "\n",
    "# # print(f\"Reshaped embeddings to: {embeddings.shape}\")\n",
    "\n",
    "\n",
    "# # # Load your model (ensure it's trained and compatible with these embeddings)\n",
    "# # # model = load_model('path_to_your_model.h5')\n",
    "\n",
    "# # # Assuming you want to evaluate the model with these embeddings:\n",
    "# # # Evaluate or pass the embeddings to the model for inference, e.g., using a callback\n",
    "# # result = model.evaluate(embeddings)  # This is just an example; modify as per your use case\n",
    "# # print(f\"Evaluation result: {result}\")\n",
    "\n",
    "# from tensorflow.keras.preprocessing import image\n",
    "# from tensorflow.keras.applications.ghostnet import preprocess_input\n",
    "# import numpy as np\n",
    "\n",
    "# # Load an image (you can iterate through all images in your dataset)\n",
    "# img_path = './test_images/2_1.jpg'  # Replace with your image path\n",
    "# img = image.load_img(img_path, target_size=(224, 224))  # Resize the image\n",
    "# img_array = image.img_to_array(img)  # Convert the image to a NumPy array\n",
    "# img_array = np.expand_dims(img_array, axis=0)  # Add batch dimension\n",
    "# img_array = preprocess_input(img_array)  # Preprocess the image (depends on the model)\n",
    "\n",
    "# # Use the model to predict\n",
    "# result = model.predict(img_array)\n",
    "# print(f\"Prediction result: {result}\")\n",
    "import numpy as np\n",
    "\n",
    "# Load the .bin file using numpy (assuming it is a serialized numpy array)\n",
    "bin_file_path = 'datasets/faces_emore/lfw.bin'\n",
    "\n",
    "# Load the binary data\n",
    "data = np.fromfile(bin_file_path, dtype=np.float32)  # Adjust dtype as needed (check the file's structure)\n",
    "\n",
    "# Print the shape of the loaded data\n",
    "print(\"Shape of the loaded data:\", data.shape)\n",
    "\n",
    "# If the data is multi-dimensional, you can check its dimensions and count the elements\n",
    "if len(data.shape) > 1:\n",
    "    print(f\"Total number of elements (pairs) in the .bin file: {data.shape[0]}\")\n",
    "else:\n",
    "    # If the data is 1D, we simply count the number of elements\n",
    "    print(f\"Total number of elements in the .bin file: {len(data)}\")\n",
    "\n",
    "\n",
    "\n"
   ]
  },
  {
   "cell_type": "code",
   "execution_count": 10,
   "metadata": {},
   "outputs": [
    {
     "name": "stdout",
     "output_type": "stream",
     "text": [
      "First few elements in bins: ('datasets/faces_emore_112x112_folders/00007/7_6.jpg', 'datasets/faces_emore_112x112_folders/00004/4_5.jpg', False)\n"
     ]
    },
    {
     "ename": "ValueError",
     "evalue": "invalid literal for int() with base 10: 'datasets/faces_emore_112x112_folders/00000/0_5.jpg'",
     "output_type": "error",
     "traceback": [
      "\u001b[0;31m---------------------------------------------------------------------------\u001b[0m",
      "\u001b[0;31mValueError\u001b[0m                                Traceback (most recent call last)",
      "Cell \u001b[0;32mIn[10], line 1\u001b[0m\n\u001b[0;32m----> 1\u001b[0m ee \u001b[38;5;241m=\u001b[39m \u001b[43mevals\u001b[49m\u001b[38;5;241;43m.\u001b[39;49m\u001b[43meval_callback\u001b[49m\u001b[43m(\u001b[49m\u001b[43mmodel\u001b[49m\u001b[43m,\u001b[49m\u001b[43m \u001b[49m\u001b[38;5;124;43m'\u001b[39;49m\u001b[38;5;124;43mdatasets/faces_emore/lfw.bin\u001b[39;49m\u001b[38;5;124;43m'\u001b[39;49m\u001b[43m,\u001b[49m\u001b[43m \u001b[49m\u001b[43mbatch_size\u001b[49m\u001b[38;5;241;43m=\u001b[39;49m\u001b[38;5;241;43m128\u001b[39;49m\u001b[43m,\u001b[49m\u001b[43m \u001b[49m\u001b[43mflip\u001b[49m\u001b[38;5;241;43m=\u001b[39;49m\u001b[38;5;28;43;01mFalse\u001b[39;49;00m\u001b[43m,\u001b[49m\u001b[43m \u001b[49m\u001b[43mPCA_acc\u001b[49m\u001b[38;5;241;43m=\u001b[39;49m\u001b[38;5;28;43;01mTrue\u001b[39;49;00m\u001b[43m)\u001b[49m\n\u001b[1;32m      2\u001b[0m \u001b[38;5;66;03m# df = 'datasets/faces_emore/lfw.bin'\u001b[39;00m\n\u001b[1;32m      3\u001b[0m \u001b[38;5;66;03m# print(df)\u001b[39;00m\n\u001b[1;32m      4\u001b[0m \u001b[38;5;66;03m# print(ee)\u001b[39;00m\n\u001b[1;32m      5\u001b[0m ee\u001b[38;5;241m.\u001b[39mon_epoch_end(\u001b[38;5;241m0\u001b[39m)\n",
      "File \u001b[0;32m~/Documents/BTP/GhostFaceNets/evals.py:57\u001b[0m, in \u001b[0;36meval_callback.__init__\u001b[0;34m(self, basic_model, test_bin_file, batch_size, save_model, eval_freq, flip, PCA_acc)\u001b[0m\n\u001b[1;32m     55\u001b[0m ds \u001b[38;5;241m=\u001b[39m ds\u001b[38;5;241m.\u001b[39mmap(_imread)\n\u001b[1;32m     56\u001b[0m \u001b[38;5;28mself\u001b[39m\u001b[38;5;241m.\u001b[39mds \u001b[38;5;241m=\u001b[39m ds\u001b[38;5;241m.\u001b[39mbatch(batch_size)\n\u001b[0;32m---> 57\u001b[0m \u001b[38;5;28mself\u001b[39m\u001b[38;5;241m.\u001b[39mtest_issame \u001b[38;5;241m=\u001b[39m \u001b[43mnp\u001b[49m\u001b[38;5;241;43m.\u001b[39;49m\u001b[43marray\u001b[49m\u001b[43m(\u001b[49m\u001b[43missame_list\u001b[49m\u001b[43m)\u001b[49m\u001b[38;5;241;43m.\u001b[39;49m\u001b[43mastype\u001b[49m\u001b[43m(\u001b[49m\u001b[38;5;124;43m\"\u001b[39;49m\u001b[38;5;124;43mbool\u001b[39;49m\u001b[38;5;124;43m\"\u001b[39;49m\u001b[43m)\u001b[49m\n\u001b[1;32m     58\u001b[0m \u001b[38;5;28mself\u001b[39m\u001b[38;5;241m.\u001b[39mtest_names \u001b[38;5;241m=\u001b[39m os\u001b[38;5;241m.\u001b[39mpath\u001b[38;5;241m.\u001b[39msplitext(os\u001b[38;5;241m.\u001b[39mpath\u001b[38;5;241m.\u001b[39mbasename(test_bin_file))[\u001b[38;5;241m0\u001b[39m]\n\u001b[1;32m     59\u001b[0m \u001b[38;5;28mself\u001b[39m\u001b[38;5;241m.\u001b[39msteps \u001b[38;5;241m=\u001b[39m \u001b[38;5;28mint\u001b[39m(np\u001b[38;5;241m.\u001b[39mceil(\u001b[38;5;28mlen\u001b[39m(bins) \u001b[38;5;241m/\u001b[39m batch_size))\n",
      "\u001b[0;31mValueError\u001b[0m: invalid literal for int() with base 10: 'datasets/faces_emore_112x112_folders/00000/0_5.jpg'"
     ]
    }
   ],
   "source": [
    "ee = evals.eval_callback(model, 'datasets/faces_emore/lfw.bin', batch_size=128, flip=False, PCA_acc=True)\n",
    "# df = 'datasets/faces_emore/lfw.bin'\n",
    "# print(df)\n",
    "# print(ee)\n",
    "ee.on_epoch_end(0)"
   ]
  },
  {
   "cell_type": "code",
   "execution_count": null,
   "metadata": {},
   "outputs": [],
   "source": [
    "ee = evals.eval_callback(model, 'datasets/faces_emore/lfw.bin', batch_size=256, flip=True, PCA_acc=False)\n",
    "ee.on_epoch_end(0)"
   ]
  },
  {
   "cell_type": "code",
   "execution_count": null,
   "metadata": {},
   "outputs": [],
   "source": [
    "# ee = evals.eval_callback(model, 'datasets/faces_emore/vgg2_fp.bin', batch_size=256, flip=True, PCA_acc=False)\n",
    "# ee.on_epoch_end(0)"
   ]
  },
  {
   "cell_type": "code",
   "execution_count": null,
   "metadata": {},
   "outputs": [],
   "source": [
    "# ee = evals.eval_callback(model, 'datasets/faces_emore/cfp_ff.bin', batch_size=256, flip=True, PCA_acc=False)\n",
    "# ee.on_epoch_end(0)"
   ]
  },
  {
   "cell_type": "code",
   "execution_count": null,
   "metadata": {},
   "outputs": [],
   "source": [
    "ee = evals.eval_callback(model, 'datasets/faces_emore/cfp_fp.bin', batch_size=256, flip=True, PCA_acc=False)\n",
    "ee.on_epoch_end(0)"
   ]
  },
  {
   "cell_type": "code",
   "execution_count": null,
   "metadata": {},
   "outputs": [],
   "source": [
    "ee = evals.eval_callback(basic_model, 'datasets/faces_emore/calfw.bin', batch_size=256, flip=True, PCA_acc=False)\n",
    "ee.on_epoch_end(0)"
   ]
  },
  {
   "cell_type": "code",
   "execution_count": null,
   "metadata": {},
   "outputs": [],
   "source": [
    "ee = evals.eval_callback(basic_model, 'datasets/faces_emore/cplfw.bin', batch_size=256, flip=True, PCA_acc=False)\n",
    "ee.on_epoch_end(0)"
   ]
  },
  {
   "cell_type": "code",
   "execution_count": null,
   "metadata": {},
   "outputs": [],
   "source": [
    "ee = evals.eval_callback(basic_model, 'datasets/faces_emore/agedb_30.bin', batch_size=256, flip=True, PCA_acc=False)\n",
    "ee.on_epoch_end(0)"
   ]
  },
  {
   "cell_type": "code",
   "execution_count": null,
   "metadata": {},
   "outputs": [],
   "source": [
    "tt = IJB_evals.IJB_test(lambda imgs: basic_model((tf.cast(imgs, \"float32\") - 127.5) * 0.0078125).numpy(), data_path='path_to_IJB_Dataset/ijb-testsuite/ijb', subset='IJBB', batch_size=16)"
   ]
  },
  {
   "cell_type": "code",
   "execution_count": null,
   "metadata": {},
   "outputs": [],
   "source": [
    "score = tt.run_model_test_single()"
   ]
  },
  {
   "cell_type": "code",
   "execution_count": null,
   "metadata": {},
   "outputs": [],
   "source": [
    "IJB_evals.plot_roc_and_calculate_tpr([score], names=[basic_model.name + \"_IJBB\"], label=tt.label)"
   ]
  },
  {
   "cell_type": "code",
   "execution_count": null,
   "metadata": {},
   "outputs": [],
   "source": [
    "tt = IJB_evals.IJB_test(lambda imgs: basic_model((tf.cast(imgs, \"float32\") - 127.5) * 0.0078125).numpy(), data_path='C:/Users/mohda/Downloads/ijb-testsuite/ijb', subset='IJBC', batch_size=16)"
   ]
  },
  {
   "cell_type": "code",
   "execution_count": null,
   "metadata": {},
   "outputs": [],
   "source": [
    "score = tt.run_model_test_single()"
   ]
  },
  {
   "cell_type": "code",
   "execution_count": null,
   "metadata": {},
   "outputs": [],
   "source": [
    "IJB_evals.plot_roc_and_calculate_tpr([score], names=[basic_model.name + \"_IJBC\"], label=tt.label)"
   ]
  },
  {
   "attachments": {},
   "cell_type": "markdown",
   "metadata": {},
   "source": [
    "Plot face quality distribution using norm value of feature"
   ]
  },
  {
   "cell_type": "code",
   "execution_count": null,
   "metadata": {},
   "outputs": [],
   "source": [
    "cc = tf.norm(ee.embs, axis=1).numpy()\n",
    "_ = plt.hist(cc, bins=512, alpha=0.5, label='agedb_30 quality')\n",
    "cc = tf.norm(tt.embs, axis=1).numpy()\n",
    "_ = plt.hist(cc, bins=512, alpha=0.5, label='IJBC quality')\n",
    "plt.legend()\n",
    "plt.tight_layout()"
   ]
  }
 ],
 "metadata": {
  "kernelspec": {
   "display_name": "tf_env",
   "language": "python",
   "name": "python3"
  },
  "language_info": {
   "codemirror_mode": {
    "name": "ipython",
    "version": 3
   },
   "file_extension": ".py",
   "mimetype": "text/x-python",
   "name": "python",
   "nbconvert_exporter": "python",
   "pygments_lexer": "ipython3",
   "version": "3.9.19"
  },
  "orig_nbformat": 4
 },
 "nbformat": 4,
 "nbformat_minor": 2
}
