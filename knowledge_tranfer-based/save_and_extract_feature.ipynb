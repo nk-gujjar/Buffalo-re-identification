{
 "cells": [
  {
   "cell_type": "code",
   "execution_count": 1,
   "id": "c810064e",
   "metadata": {},
   "outputs": [],
   "source": [
    "# !pip install transforms"
   ]
  },
  {
   "cell_type": "code",
   "execution_count": 2,
   "id": "8d10a5f5",
   "metadata": {},
   "outputs": [
    {
     "name": "stdout",
     "output_type": "stream",
     "text": [
      "[[ 0.04359323  0.01403806 -0.00179398 ... -0.00251877  0.00676357\n",
      "   0.03537569]\n",
      " [ 0.00162734 -0.00132757  0.01511903 ...  0.00437969  0.03365761\n",
      "  -0.00161903]\n",
      " [-0.00175517 -0.00366673 -0.00316752 ...  0.00574181  0.02971334\n",
      "  -0.00255476]\n",
      " [ 0.00984232 -0.00073736  0.01033451 ...  0.01330911  0.02982657\n",
      "   0.0013577 ]\n",
      " [ 0.0036408  -0.00371268 -0.00091065 ...  0.0098062   0.01528612\n",
      "  -0.00194535]\n",
      " [-0.00666255 -0.00264517  0.01715465 ...  0.00195384  0.01805435\n",
      "  -0.00212397]]\n",
      "Saved features and filenames successfully.\n"
     ]
    }
   ],
   "source": [
    "# 1_extract_and_store_features.ipynb\n",
    "\n",
    "import os\n",
    "import numpy as np\n",
    "import torch\n",
    "from model_init import load_model, preprocess_image, get_normalized_features\n",
    "\n",
    "\n",
    "# Paths\n",
    "reference_folder = \"../60_images_of_6_cows/db-images1\"  # folder with known cattle images\n",
    "features_output_file = \"reference_features.npy\"\n",
    "filenames_output_file = \"reference_filenames.npy\"\n",
    "\n",
    "# Device\n",
    "if torch.backends.mps.is_available():\n",
    "    device = torch.device(\"mps\")\n",
    "elif torch.cuda.is_available():\n",
    "    device = torch.device(\"cuda\")\n",
    "else:\n",
    "    device = torch.device(\"cpu\")\n",
    "\n",
    "# Load model\n",
    "model = load_model(\"./models/best_model-3.pth\", device)\n",
    "\n",
    "# Extract and store features\n",
    "features = []\n",
    "filenames = []\n",
    "\n",
    "for filename in os.listdir(reference_folder):\n",
    "    if filename.lower().endswith((\".jpg\", \".png\", \".jpeg\")):\n",
    "        image_path = os.path.join(reference_folder, filename)\n",
    "        image_tensor = preprocess_image(image_path)\n",
    "        feature = get_normalized_features(model, image_tensor, device)\n",
    "        features.append(feature.squeeze())  # shape: (1536,)\n",
    "        filenames.append(filename)\n",
    "\n",
    "\n",
    "features = np.stack(features)  # shape: (N, 1536)\n",
    "print(features)\n",
    "np.save(features_output_file, features)\n",
    "np.save(filenames_output_file, np.array(filenames))\n",
    "\n",
    "print(\"Saved features and filenames successfully.\")\n"
   ]
  },
  {
   "cell_type": "code",
   "execution_count": null,
   "id": "1d65bb7e",
   "metadata": {},
   "outputs": [],
   "source": []
  }
 ],
 "metadata": {
  "kernelspec": {
   "display_name": "tf_env",
   "language": "python",
   "name": "python3"
  },
  "language_info": {
   "codemirror_mode": {
    "name": "ipython",
    "version": 3
   },
   "file_extension": ".py",
   "mimetype": "text/x-python",
   "name": "python",
   "nbconvert_exporter": "python",
   "pygments_lexer": "ipython3",
   "version": "3.9.19"
  }
 },
 "nbformat": 4,
 "nbformat_minor": 5
}
