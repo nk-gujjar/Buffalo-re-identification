{
 "cells": [
  {
   "cell_type": "code",
   "execution_count": 1,
   "id": "c810064e",
   "metadata": {},
   "outputs": [],
   "source": [
    "# !pip install transforms"
   ]
  },
  {
   "cell_type": "code",
   "execution_count": 2,
   "id": "8d10a5f5",
   "metadata": {},
   "outputs": [
    {
     "name": "stderr",
     "output_type": "stream",
     "text": [
      "/Users/niteshkumar/conda/envs/tf_env/lib/python3.9/site-packages/torch/utils/_pytree.py:185: FutureWarning: optree is installed but the version is too old to support PyTorch Dynamo in C++ pytree. C++ pytree support is disabled. Please consider upgrading optree using `python3 -m pip install --upgrade 'optree>=0.13.0'`.\n",
      "  warnings.warn(\n"
     ]
    },
    {
     "name": "stdout",
     "output_type": "stream",
     "text": [
      "Using device: mps\n",
      "Processed cattle ID: cropped_img207, Feature shape: (1536,)\n",
      "Processed cattle ID: cropped_img209, Feature shape: (1536,)\n",
      "Processed cattle ID: cropped_img214, Feature shape: (1536,)\n",
      "Processed cattle ID: cropped_img217, Feature shape: (1536,)\n",
      "Processed cattle ID: cropped_img221, Feature shape: (1536,)\n",
      "Processed cattle ID: cropped_img216, Feature shape: (1536,)\n",
      "\n",
      "✅ Saved all cattle features and filenames successfully.\n"
     ]
    }
   ],
   "source": [
    "# 1_extract_and_store_features_final_fixed.py\n",
    "\n",
    "import os\n",
    "import numpy as np\n",
    "import torch\n",
    "from model_init import load_model, preprocess_image, get_normalized_features\n",
    "\n",
    "# Paths\n",
    "reference_folder = \"../60_images_of_6_cows/db-images2\"  # folder with cattle subfolders\n",
    "features_output_file = \"reference_features.npy\"\n",
    "filenames_output_file = \"reference_filenames.npy\"\n",
    "\n",
    "# Device setup\n",
    "if torch.backends.mps.is_available():\n",
    "    device = torch.device(\"mps\")\n",
    "elif torch.cuda.is_available():\n",
    "    device = torch.device(\"cuda\")\n",
    "else:\n",
    "    device = torch.device(\"cpu\")\n",
    "\n",
    "print(f\"Using device: {device}\")\n",
    "\n",
    "# Load model\n",
    "model = load_model(\"best_model-3.pth\", device)\n",
    "\n",
    "# Extract and store features\n",
    "final_features = []\n",
    "final_filenames = []\n",
    "\n",
    "# Process each subfolder\n",
    "for subfolder in os.listdir(reference_folder):\n",
    "    if subfolder.startswith(\"cropped_img\"):\n",
    "        subfolder_path = os.path.join(reference_folder, subfolder)\n",
    "        if not os.path.isdir(subfolder_path):\n",
    "            continue  # Skip if not a folder\n",
    "        \n",
    "        cattle_features = []\n",
    "\n",
    "        # Extract features for all images inside this subfolder\n",
    "        for filename in os.listdir(subfolder_path):\n",
    "            if filename.lower().endswith((\".jpg\", \".png\", \".jpeg\")):\n",
    "                image_path = os.path.join(subfolder_path, filename)\n",
    "                image_tensor = preprocess_image(image_path)\n",
    "                feature = get_normalized_features(model, image_tensor, device)\n",
    "                cattle_features.append(feature.squeeze())  # convert to numpy\n",
    "\n",
    "        if len(cattle_features) == 0:\n",
    "            print(f\"No valid images found in {subfolder}. Skipping...\")\n",
    "            continue\n",
    "        \n",
    "        cattle_features = np.stack(cattle_features)  # shape: (num_images, 1536)\n",
    "\n",
    "        # Calculate mean feature (no random sampling)\n",
    "        mean_feature = np.mean(cattle_features, axis=0)  # shape: (1536,)\n",
    "\n",
    "        # Optional: normalize the mean feature\n",
    "        mean_feature /= np.linalg.norm(mean_feature) + 1e-8\n",
    "\n",
    "        # Store\n",
    "        final_features.append(mean_feature)\n",
    "        final_filenames.append(subfolder)  # using subfolder name as cattle id\n",
    "\n",
    "        print(f\"Processed cattle ID: {subfolder}, Feature shape: {mean_feature.shape}\")\n",
    "\n",
    "# Save all features and corresponding cattle IDs\n",
    "final_features = np.stack(final_features)  # shape: (num_cattles, 1536)\n",
    "np.save(features_output_file, final_features)\n",
    "np.save(filenames_output_file, np.array(final_filenames))\n",
    "\n",
    "print(\"\\n✅ Saved all cattle features and filenames successfully.\")\n"
   ]
  },
  {
   "cell_type": "code",
   "execution_count": null,
   "id": "1d65bb7e",
   "metadata": {},
   "outputs": [],
   "source": []
  }
 ],
 "metadata": {
  "kernelspec": {
   "display_name": "tf_env",
   "language": "python",
   "name": "python3"
  },
  "language_info": {
   "codemirror_mode": {
    "name": "ipython",
    "version": 3
   },
   "file_extension": ".py",
   "mimetype": "text/x-python",
   "name": "python",
   "nbconvert_exporter": "python",
   "pygments_lexer": "ipython3",
   "version": "3.9.19"
  }
 },
 "nbformat": 4,
 "nbformat_minor": 5
}
